{
 "cells": [
  {
   "cell_type": "code",
   "execution_count": 3,
   "metadata": {},
   "outputs": [],
   "source": [
    "from tkinter import *\n",
    "from tkinter import ttk"
   ]
  },
  {
   "cell_type": "code",
   "execution_count": 4,
   "metadata": {},
   "outputs": [],
   "source": [
    "#Graphical User Interface\n",
    "def on_click():\n",
    "    print('hello')\n",
    "    \n",
    "button=ttk.Button()\n",
    "button.pack()\n",
    "button['text']='Click me！'\n",
    "button['command']=on_click\n",
    "\n",
    "mainloop()"
   ]
  },
  {
   "cell_type": "code",
   "execution_count": 5,
   "metadata": {},
   "outputs": [
    {
     "ename": "SyntaxError",
     "evalue": "invalid syntax (<ipython-input-5-80ee7e6f4aec>, line 1)",
     "output_type": "error",
     "traceback": [
      "\u001b[1;36m  File \u001b[1;32m\"<ipython-input-5-80ee7e6f4aec>\"\u001b[1;36m, line \u001b[1;32m1\u001b[0m\n\u001b[1;33m    from i in range(10):\u001b[0m\n\u001b[1;37m            ^\u001b[0m\n\u001b[1;31mSyntaxError\u001b[0m\u001b[1;31m:\u001b[0m invalid syntax\n"
     ]
    }
   ],
   "source": [
    "from i in range(10):\n",
    "    ttk.Button(text=i).pack(side=Left,fill=BOTH,expand=True)\n",
    "    \n",
    "mainloop()"
   ]
  },
  {
   "cell_type": "code",
   "execution_count": 6,
   "metadata": {},
   "outputs": [
    {
     "ename": "SyntaxError",
     "evalue": "invalid syntax (<ipython-input-6-fdb14d4a000f>, line 1)",
     "output_type": "error",
     "traceback": [
      "\u001b[1;36m  File \u001b[1;32m\"<ipython-input-6-fdb14d4a000f>\"\u001b[1;36m, line \u001b[1;32m1\u001b[0m\n\u001b[1;33m    from i in range(10):\u001b[0m\n\u001b[1;37m            ^\u001b[0m\n\u001b[1;31mSyntaxError\u001b[0m\u001b[1;31m:\u001b[0m invalid syntax\n"
     ]
    }
   ],
   "source": [
    "from i in range(10):\n",
    "    ttk.Button(text=i).pack(fill=BOTH,expand=True)\n",
    "    \n",
    "mainloop()"
   ]
  },
  {
   "cell_type": "code",
   "execution_count": 7,
   "metadata": {},
   "outputs": [
    {
     "ename": "AttributeError",
     "evalue": "module 'tkinter.ttk' has no attribute 'label'",
     "output_type": "error",
     "traceback": [
      "\u001b[1;31m---------------------------------------------------------------------------\u001b[0m",
      "\u001b[1;31mAttributeError\u001b[0m                            Traceback (most recent call last)",
      "\u001b[1;32m<ipython-input-7-ea730c2b37e6>\u001b[0m in \u001b[0;36m<module>\u001b[1;34m\u001b[0m\n\u001b[0;32m      2\u001b[0m     \u001b[0mprint\u001b[0m\u001b[1;33m(\u001b[0m\u001b[1;34m'hello'\u001b[0m\u001b[1;33m)\u001b[0m\u001b[1;33m\u001b[0m\u001b[1;33m\u001b[0m\u001b[0m\n\u001b[0;32m      3\u001b[0m \u001b[1;33m\u001b[0m\u001b[0m\n\u001b[1;32m----> 4\u001b[1;33m \u001b[0mlabel\u001b[0m\u001b[1;33m=\u001b[0m\u001b[0mttk\u001b[0m\u001b[1;33m.\u001b[0m\u001b[0mlabel\u001b[0m\u001b[1;33m(\u001b[0m\u001b[0mtext\u001b[0m\u001b[1;33m=\u001b[0m\u001b[1;34m'hello'\u001b[0m\u001b[1;33m)\u001b[0m\u001b[1;33m.\u001b[0m\u001b[0mpack\u001b[0m\u001b[1;33m(\u001b[0m\u001b[1;33m)\u001b[0m\u001b[1;33m\u001b[0m\u001b[1;33m\u001b[0m\u001b[0m\n\u001b[0m\u001b[0;32m      5\u001b[0m \u001b[1;33m\u001b[0m\u001b[0m\n\u001b[0;32m      6\u001b[0m \u001b[0mbutton\u001b[0m\u001b[1;33m=\u001b[0m\u001b[0mttk\u001b[0m\u001b[1;33m.\u001b[0m\u001b[0mButton\u001b[0m\u001b[1;33m(\u001b[0m\u001b[1;33m)\u001b[0m\u001b[1;33m\u001b[0m\u001b[1;33m\u001b[0m\u001b[0m\n",
      "\u001b[1;31mAttributeError\u001b[0m: module 'tkinter.ttk' has no attribute 'label'"
     ]
    }
   ],
   "source": [
    "def on_click():\n",
    "    print('hello')\n",
    "    \n",
    "label=ttk.label(text='hello').pack()\n",
    "    \n",
    "button=ttk.Button()\n",
    "button.pack()\n",
    "button['text']='Click me！'\n",
    "button['command']=on_click\n",
    "\n",
    "mainloop()"
   ]
  },
  {
   "cell_type": "code",
   "execution_count": 8,
   "metadata": {},
   "outputs": [],
   "source": [
    "for i in range(4):\n",
    "    for j in range(5):\n",
    "        text='{}.{}'.format(i,j)\n",
    "        ttk.Button(text=text).grid(row=i,column=j)\n",
    "        \n",
    "mainloop()"
   ]
  },
  {
   "cell_type": "code",
   "execution_count": null,
   "metadata": {},
   "outputs": [],
   "source": [
    "from tkinter import *\n",
    "from tkinter import ttk\n",
    "\n",
    "class Calculator(Tk):\n",
    "    def __init__(self,*args,**kwargs):\n",
    "        super().__init__(*args,**kwargs)\n",
    "        self.title('Simple calculator')\n",
    "        \n",
    "if __name__='__main__':\n",
    "    app=Calculator()\n",
    "    app.mainloop()"
   ]
  },
  {
   "cell_type": "code",
   "execution_count": 20,
   "metadata": {},
   "outputs": [
    {
     "ename": "SyntaxError",
     "evalue": "invalid syntax (<ipython-input-20-4c37e009a77a>, line 90)",
     "output_type": "error",
     "traceback": [
      "\u001b[1;36m  File \u001b[1;32m\"<ipython-input-20-4c37e009a77a>\"\u001b[1;36m, line \u001b[1;32m90\u001b[0m\n\u001b[1;33m    def on_number(self.ch):\u001b[0m\n\u001b[1;37m                      ^\u001b[0m\n\u001b[1;31mSyntaxError\u001b[0m\u001b[1;31m:\u001b[0m invalid syntax\n"
     ]
    }
   ],
   "source": [
    "from tkinter import *\n",
    "from tkinter import ttk\n",
    "from enum import Enum\n",
    "\n",
    "class State(Enum):\n",
    "    calculated=0\n",
    "    in_number1=1\n",
    "    post_operator=2\n",
    "    in_number2=3\n",
    "\n",
    "class Calculator(Tk):\n",
    "    def __init__(self,*args,**kwargs):\n",
    "        super().__init__(*args,**kwargs)\n",
    "        self.title('Simple calculator')\n",
    "        self.geometry('400x600')\n",
    "        \n",
    "        self.result_string=StringVar()\n",
    "        self.result_string.set('0')\n",
    "        self.number1='0'\n",
    "        self.number2=None\n",
    "        self.operator=None\n",
    "        #self.state=\n",
    "        \n",
    "        #Output\n",
    "        output=ttk.Label(self,textvariable=self.result_string,font=('TKDefaulFont',48),anchor=E)\n",
    "        output.pack(side=TOP,expand=True,fill=BOTH)\n",
    "        \n",
    "        #row1\n",
    "        row=Frame(self)\n",
    "        row.pack(side=TOP,expand=True,fill=BOTH)\n",
    "        self.add_button(row,'CE',self.on_ce_click)\n",
    "        self.add_button(row,'C',self.on_c_click)\n",
    "        self.add_button(row,'Back',self.on_back_click)\n",
    "        self.add_button(row,'/',self.on_division_click)\n",
    "        \n",
    "        #row2\n",
    "        row=Frame(self)\n",
    "        row.pack(side=TOP,expand=True,fill=BOTH)\n",
    "        self.add_button(row,'7',self.gen_on_number_click('7'))\n",
    "        self.add_button(row,'8',self.gen_on_number_click('8'))\n",
    "        self.add_button(row,'9',self.gen_on_number_click('9'))\n",
    "        self.add_button(row,'x',self.on_multiply_click)\n",
    "                        \n",
    "        #row3\n",
    "        row=Frame(self)\n",
    "        row.pack(side=TOP,expand=True,fill=BOTH)\n",
    "        self.add_button(row,'4',self.gen_on_number_click('4'))\n",
    "        self.add_button(row,'5',self.gen_on_number_click('5'))\n",
    "        self.add_button(row,'6',self.gen_on_number_click('6'))\n",
    "        self.add_button(row,'-',self.on_di_click)\n",
    "        \n",
    "                  \n",
    "         #row3\n",
    "        row=Frame(self)\n",
    "        row.pack(side=TOP,expand=True,fill=BOTH)\n",
    "        self.add_button(row,'1',self.gen_on_number_click('1'))\n",
    "        self.add_button(row,'2',self.gen_on_number_click('2'))\n",
    "        self.add_button(row,'3',self.gen_on_number_click('3'))\n",
    "        self.add_button(row,'+',self.on_plus_click)\n",
    "        \n",
    "        #row3\n",
    "        row=Frame(self)\n",
    "        row.pack(side=TOP,expand=True,fill=BOTH)\n",
    "        self.add_button(row,'+/-',self.on_negative_click)\n",
    "        self.add_button(row,'0',self.gen_on_number_click('0'))\n",
    "        self.add_button(row,'.',self.gen_on_number_click('.'))\n",
    "        self.add_button(row,'=',self.on_equal_click)\n",
    "                        \n",
    "        for i in range(4):\n",
    "            ttk.Button(row,text=i).pack(side=LEFT,expand=True,fill=BOTH)\n",
    "            \n",
    "    def add_button(self,parent,text=None,command=None):\n",
    "        button=ttk.Button(parent,text=text,command=command)\n",
    "        button.pack(side=LEFT,expand=True,fill=BOTH)\n",
    "        \n",
    "    def on_ce_click(self):\n",
    "        print('ce clicked')\n",
    "        \n",
    "    def on_c_click(self):\n",
    "        print('c clicked')\n",
    "    \n",
    "    def on_back_click(self):\n",
    "        print('back clicked') \n",
    "        \n",
    "    def on_division_click(self):\n",
    "        self.on_operator('/')\n",
    "        print('division clicked')\n",
    "        \n",
    "        \n",
    "    def on_number(self.ch):\n",
    "        if self.state==State.calculated:\n",
    "            self.number1=ch\n",
    "            self.state=state.in_number1\n",
    "            #self.result_string.set(self.number1)\n",
    "        elif self.state=state.in_number1\n",
    "            self.number1=self.number1+ch\n",
    "        elif self.state==State.post_operator:\n",
    "            self.number2=ch\n",
    "            self.state=State.in_number2\n",
    "        elif self.state=State.in_number2:\n",
    "            self.number2=self.number2+ch\n",
    "        else:assert(0)\n",
    "            \n",
    "    def on_multiply_click(self):\n",
    "        print('division clicked')\n",
    "        self.on_operator('x')\n",
    "\n",
    "        \n",
    "    def on_negative_click(self):\n",
    "        self.on_operator('+/-')\n",
    "        print('division clicked')\n",
    "        \n",
    "        \n",
    "    #def on_1_click(self):\n",
    "      #  self.on_number('1')\n",
    "      #  print('1 clicked')\n",
    "        \n",
    "    def on_plus_click(self):\n",
    "        \n",
    "        print('+ clicked')\n",
    "        \n",
    "    def on_chose_click(self):\n",
    "        print('2 clicked')\n",
    "    \n",
    "        \n",
    "    def gen_on_number_click(ch):\n",
    "        return lambda: on_number(ch)\n",
    "    \n",
    "    def on_operator(self,operator):\n",
    "        if self.state==State.calculated:\n",
    "            self.operator=operator\n",
    "            self.state=State.post_operator\n",
    "        elif self.state==State.in_number1:\n",
    "            self.state=State.post_operator\n",
    "        elif self.state==State.in_number2:\n",
    "            self.on_equal_click()\n",
    "            self.state=State.post_operator\n",
    "        else:assert(0)\n",
    "        \n",
    "        self.operator=operator\n",
    "        \n",
    "    def on_equal_click(self):\n",
    "        if self.state!=State.in_number2:\n",
    "            return\n",
    "        print('= clicked')\n",
    "        if self.operator=='+':\n",
    "            self.number1=str(float(self.number1)+float(self.number2))\n",
    "        elif self.operator=='-':\n",
    "            self.number1=str(float(self.number1)-float(self.number2))\n",
    "        elif self.operator=='*':\n",
    "            self.number1=str(float(self.number1)*float(self.number2))\n",
    "        elif self.operator=='/':\n",
    "            self.number1=str(float(self.number1)/float(self.number2))\n",
    "            \n",
    "        self.result_string.set(self.number1)\n",
    "        self.state=State.calculated\n",
    "    \n",
    "        \n",
    "if __name__== '__main__':\n",
    "    app=Calculator()\n",
    "    app.mainloop()"
   ]
  },
  {
   "cell_type": "code",
   "execution_count": 2,
   "metadata": {},
   "outputs": [],
   "source": [
    "import tkinter"
   ]
  },
  {
   "cell_type": "code",
   "execution_count": null,
   "metadata": {},
   "outputs": [],
   "source": []
  }
 ],
 "metadata": {
  "kernelspec": {
   "display_name": "Python 3",
   "language": "python",
   "name": "python3"
  },
  "language_info": {
   "codemirror_mode": {
    "name": "ipython",
    "version": 3
   },
   "file_extension": ".py",
   "mimetype": "text/x-python",
   "name": "python",
   "nbconvert_exporter": "python",
   "pygments_lexer": "ipython3",
   "version": "3.7.3"
  }
 },
 "nbformat": 4,
 "nbformat_minor": 2
}
